{
 "cells": [
  {
   "cell_type": "code",
   "execution_count": 10,
   "metadata": {
    "id": "-ppToJrUWoJ0"
   },
   "outputs": [],
   "source": [
    "from sklearn.datasets import load_wine\n",
    "import pandas as pd\n",
    "import numpy as np\n",
    "import matplotlib.pyplot as plt\n",
    "from matplotlib import colors"
   ]
  },
  {
   "cell_type": "code",
   "execution_count": 11,
   "metadata": {
    "id": "ik4WLSx51KZY"
   },
   "outputs": [],
   "source": [
    "cmap = colors.LinearSegmentedColormap(\n",
    "    'red_blue_classes',\n",
    "    {'red': [(0, 1, 1), (1, 0.7, 0.7)],\n",
    "     'green': [(0, 0.7, 0.7), (1, 0.7, 0.7)],\n",
    "     'blue': [(0, 0.7, 0.7), (1, 1, 1)]})\n",
    "plt.cm.register_cmap(cmap=cmap)"
   ]
  },
  {
   "cell_type": "code",
   "execution_count": 12,
   "metadata": {
    "id": "cmLC9M6oW2v8"
   },
   "outputs": [],
   "source": [
    "wine = load_wine()"
   ]
  },
  {
   "cell_type": "code",
   "execution_count": 13,
   "metadata": {
    "colab": {
     "base_uri": "https://localhost:8080/",
     "height": 1000
    },
    "id": "7eptbMYNvq0S",
    "outputId": "84d1fd28-1a3a-4f31-be7a-3312114bdafb"
   },
   "outputs": [
    {
     "name": "stdout",
     "output_type": "stream",
     "text": [
      ".. _wine_dataset:\n",
      "\n",
      "Wine recognition dataset\n",
      "------------------------\n",
      "\n",
      "**Data Set Characteristics:**\n",
      "\n",
      "    :Number of Instances: 178 (50 in each of three classes)\n",
      "    :Number of Attributes: 13 numeric, predictive attributes and the class\n",
      "    :Attribute Information:\n",
      " \t\t- Alcohol\n",
      " \t\t- Malic acid\n",
      " \t\t- Ash\n",
      "\t\t- Alcalinity of ash  \n",
      " \t\t- Magnesium\n",
      "\t\t- Total phenols\n",
      " \t\t- Flavanoids\n",
      " \t\t- Nonflavanoid phenols\n",
      " \t\t- Proanthocyanins\n",
      "\t\t- Color intensity\n",
      " \t\t- Hue\n",
      " \t\t- OD280/OD315 of diluted wines\n",
      " \t\t- Proline\n",
      "\n",
      "    - class:\n",
      "            - class_0\n",
      "            - class_1\n",
      "            - class_2\n",
      "\t\t\n",
      "    :Summary Statistics:\n",
      "    \n",
      "    ============================= ==== ===== ======= =====\n",
      "                                   Min   Max   Mean     SD\n",
      "    ============================= ==== ===== ======= =====\n",
      "    Alcohol:                      11.0  14.8    13.0   0.8\n",
      "    Malic Acid:                   0.74  5.80    2.34  1.12\n",
      "    Ash:                          1.36  3.23    2.36  0.27\n",
      "    Alcalinity of Ash:            10.6  30.0    19.5   3.3\n",
      "    Magnesium:                    70.0 162.0    99.7  14.3\n",
      "    Total Phenols:                0.98  3.88    2.29  0.63\n",
      "    Flavanoids:                   0.34  5.08    2.03  1.00\n",
      "    Nonflavanoid Phenols:         0.13  0.66    0.36  0.12\n",
      "    Proanthocyanins:              0.41  3.58    1.59  0.57\n",
      "    Colour Intensity:              1.3  13.0     5.1   2.3\n",
      "    Hue:                          0.48  1.71    0.96  0.23\n",
      "    OD280/OD315 of diluted wines: 1.27  4.00    2.61  0.71\n",
      "    Proline:                       278  1680     746   315\n",
      "    ============================= ==== ===== ======= =====\n",
      "\n",
      "    :Missing Attribute Values: None\n",
      "    :Class Distribution: class_0 (59), class_1 (71), class_2 (48)\n",
      "    :Creator: R.A. Fisher\n",
      "    :Donor: Michael Marshall (MARSHALL%PLU@io.arc.nasa.gov)\n",
      "    :Date: July, 1988\n",
      "\n",
      "This is a copy of UCI ML Wine recognition datasets.\n",
      "https://archive.ics.uci.edu/ml/machine-learning-databases/wine/wine.data\n",
      "\n",
      "The data is the results of a chemical analysis of wines grown in the same\n",
      "region in Italy by three different cultivators. There are thirteen different\n",
      "measurements taken for different constituents found in the three types of\n",
      "wine.\n",
      "\n",
      "Original Owners: \n",
      "\n",
      "Forina, M. et al, PARVUS - \n",
      "An Extendible Package for Data Exploration, Classification and Correlation. \n",
      "Institute of Pharmaceutical and Food Analysis and Technologies,\n",
      "Via Brigata Salerno, 16147 Genoa, Italy.\n",
      "\n",
      "Citation:\n",
      "\n",
      "Lichman, M. (2013). UCI Machine Learning Repository\n",
      "[https://archive.ics.uci.edu/ml]. Irvine, CA: University of California,\n",
      "School of Information and Computer Science. \n",
      "\n",
      ".. topic:: References\n",
      "\n",
      "  (1) S. Aeberhard, D. Coomans and O. de Vel, \n",
      "  Comparison of Classifiers in High Dimensional Settings, \n",
      "  Tech. Rep. no. 92-02, (1992), Dept. of Computer Science and Dept. of  \n",
      "  Mathematics and Statistics, James Cook University of North Queensland. \n",
      "  (Also submitted to Technometrics). \n",
      "\n",
      "  The data was used with many others for comparing various \n",
      "  classifiers. The classes are separable, though only RDA \n",
      "  has achieved 100% correct classification. \n",
      "  (RDA : 100%, QDA 99.4%, LDA 98.9%, 1NN 96.1% (z-transformed data)) \n",
      "  (All results using the leave-one-out technique) \n",
      "\n",
      "  (2) S. Aeberhard, D. Coomans and O. de Vel, \n",
      "  \"THE CLASSIFICATION PERFORMANCE OF RDA\" \n",
      "  Tech. Rep. no. 92-01, (1992), Dept. of Computer Science and Dept. of \n",
      "  Mathematics and Statistics, James Cook University of North Queensland. \n",
      "  (Also submitted to Journal of Chemometrics).\n",
      "\n"
     ]
    }
   ],
   "source": [
    "print(wine.DESCR)"
   ]
  },
  {
   "cell_type": "code",
   "execution_count": 14,
   "metadata": {
    "id": "7rO21IhnvyIo"
   },
   "outputs": [],
   "source": [
    "# загружаем данные в датафрейм\n",
    "data = pd.DataFrame(wine.data, columns=wine.feature_names)\n",
    "data_class = wine.target"
   ]
  },
  {
   "cell_type": "code",
   "execution_count": null,
   "metadata": {
    "colab": {
     "base_uri": "https://localhost:8080/",
     "height": 447
    },
    "id": "M92y_fa2wBjn",
    "outputId": "b0f66858-8650-4d65-a29f-b136d4f3612f"
   },
   "outputs": [],
   "source": []
  },
  {
   "cell_type": "code",
   "execution_count": 15,
   "metadata": {
    "id": "lFjqjX-iwCaW"
   },
   "outputs": [],
   "source": [
    "# разделяем выборку на тренировочную и тестовую\n",
    "from sklearn.model_selection import train_test_split\n",
    "X_train, X_test, y_train, y_test = train_test_split(data, data_class, test_size=0.25)"
   ]
  },
  {
   "cell_type": "code",
   "execution_count": 18,
   "metadata": {
    "id": "6HINhvLtwdZT"
   },
   "outputs": [],
   "source": [
    "# импортируем LDA-функционал\n",
    "from sklearn.discriminant_analysis import LinearDiscriminantAnalysis"
   ]
  },
  {
   "cell_type": "code",
   "execution_count": 21,
   "metadata": {
    "id": "0Us8oVotwku1"
   },
   "outputs": [],
   "source": [
    "lda = LinearDiscriminantAnalysis()"
   ]
  },
  {
   "cell_type": "code",
   "execution_count": 22,
   "metadata": {
    "colab": {
     "base_uri": "https://localhost:8080/",
     "height": 72
    },
    "id": "h5Ufc5sjwnZ3",
    "outputId": "7d6c7182-8c84-4a03-f784-e32307ab0270"
   },
   "outputs": [
    {
     "data": {
      "text/plain": [
       "LinearDiscriminantAnalysis(n_components=None, priors=None, shrinkage=None,\n",
       "                           solver='svd', store_covariance=False, tol=0.0001)"
      ]
     },
     "execution_count": 22,
     "metadata": {},
     "output_type": "execute_result"
    }
   ],
   "source": [
    "# обучаем данные\n",
    "lda.fit(X_train, y_train)"
   ]
  },
  {
   "cell_type": "code",
   "execution_count": 23,
   "metadata": {
    "colab": {
     "base_uri": "https://localhost:8080/",
     "height": 72
    },
    "id": "bcZ3H-T1xSWu",
    "outputId": "b2e22b45-347b-4270-a543-63b2a9ce6378"
   },
   "outputs": [
    {
     "data": {
      "text/plain": [
       "array([1, 1, 2, 1, 0, 2, 1, 1, 2, 2, 1, 1, 1, 1, 0, 2, 0, 0, 1, 1, 0, 1,\n",
       "       0, 2, 1, 2, 0, 2, 0, 1, 0, 2, 2, 2, 2, 1, 0, 1, 1, 1, 1, 1, 1, 2,\n",
       "       0])"
      ]
     },
     "execution_count": 23,
     "metadata": {},
     "output_type": "execute_result"
    }
   ],
   "source": [
    "# делаем прогноз на тестовой выборке\n",
    "lda.predict(X_test)"
   ]
  },
  {
   "cell_type": "code",
   "execution_count": 24,
   "metadata": {
    "id": "9wGodM6OxUds"
   },
   "outputs": [],
   "source": [
    "# смотрим разницу факта и прогноза\n",
    "result = pd.DataFrame([y_test, lda.predict(X_test)]).T"
   ]
  },
  {
   "cell_type": "code",
   "execution_count": 25,
   "metadata": {
    "colab": {
     "base_uri": "https://localhost:8080/",
     "height": 1000
    },
    "id": "RK4zDP6ZxaXI",
    "outputId": "f0c457bc-4f96-47f8-fa00-0ecb66d4e555"
   },
   "outputs": [
    {
     "data": {
      "text/html": [
       "<div>\n",
       "<style scoped>\n",
       "    .dataframe tbody tr th:only-of-type {\n",
       "        vertical-align: middle;\n",
       "    }\n",
       "\n",
       "    .dataframe tbody tr th {\n",
       "        vertical-align: top;\n",
       "    }\n",
       "\n",
       "    .dataframe thead th {\n",
       "        text-align: right;\n",
       "    }\n",
       "</style>\n",
       "<table border=\"1\" class=\"dataframe\">\n",
       "  <thead>\n",
       "    <tr style=\"text-align: right;\">\n",
       "      <th></th>\n",
       "      <th>0</th>\n",
       "      <th>1</th>\n",
       "    </tr>\n",
       "  </thead>\n",
       "  <tbody>\n",
       "    <tr>\n",
       "      <td>0</td>\n",
       "      <td>1</td>\n",
       "      <td>1</td>\n",
       "    </tr>\n",
       "    <tr>\n",
       "      <td>1</td>\n",
       "      <td>1</td>\n",
       "      <td>1</td>\n",
       "    </tr>\n",
       "    <tr>\n",
       "      <td>2</td>\n",
       "      <td>2</td>\n",
       "      <td>2</td>\n",
       "    </tr>\n",
       "    <tr>\n",
       "      <td>3</td>\n",
       "      <td>1</td>\n",
       "      <td>1</td>\n",
       "    </tr>\n",
       "    <tr>\n",
       "      <td>4</td>\n",
       "      <td>0</td>\n",
       "      <td>0</td>\n",
       "    </tr>\n",
       "    <tr>\n",
       "      <td>5</td>\n",
       "      <td>2</td>\n",
       "      <td>2</td>\n",
       "    </tr>\n",
       "    <tr>\n",
       "      <td>6</td>\n",
       "      <td>1</td>\n",
       "      <td>1</td>\n",
       "    </tr>\n",
       "    <tr>\n",
       "      <td>7</td>\n",
       "      <td>1</td>\n",
       "      <td>1</td>\n",
       "    </tr>\n",
       "    <tr>\n",
       "      <td>8</td>\n",
       "      <td>2</td>\n",
       "      <td>2</td>\n",
       "    </tr>\n",
       "    <tr>\n",
       "      <td>9</td>\n",
       "      <td>2</td>\n",
       "      <td>2</td>\n",
       "    </tr>\n",
       "    <tr>\n",
       "      <td>10</td>\n",
       "      <td>1</td>\n",
       "      <td>1</td>\n",
       "    </tr>\n",
       "    <tr>\n",
       "      <td>11</td>\n",
       "      <td>1</td>\n",
       "      <td>1</td>\n",
       "    </tr>\n",
       "    <tr>\n",
       "      <td>12</td>\n",
       "      <td>1</td>\n",
       "      <td>1</td>\n",
       "    </tr>\n",
       "    <tr>\n",
       "      <td>13</td>\n",
       "      <td>1</td>\n",
       "      <td>1</td>\n",
       "    </tr>\n",
       "    <tr>\n",
       "      <td>14</td>\n",
       "      <td>0</td>\n",
       "      <td>0</td>\n",
       "    </tr>\n",
       "    <tr>\n",
       "      <td>15</td>\n",
       "      <td>2</td>\n",
       "      <td>2</td>\n",
       "    </tr>\n",
       "    <tr>\n",
       "      <td>16</td>\n",
       "      <td>0</td>\n",
       "      <td>0</td>\n",
       "    </tr>\n",
       "    <tr>\n",
       "      <td>17</td>\n",
       "      <td>0</td>\n",
       "      <td>0</td>\n",
       "    </tr>\n",
       "    <tr>\n",
       "      <td>18</td>\n",
       "      <td>1</td>\n",
       "      <td>1</td>\n",
       "    </tr>\n",
       "    <tr>\n",
       "      <td>19</td>\n",
       "      <td>1</td>\n",
       "      <td>1</td>\n",
       "    </tr>\n",
       "    <tr>\n",
       "      <td>20</td>\n",
       "      <td>0</td>\n",
       "      <td>0</td>\n",
       "    </tr>\n",
       "    <tr>\n",
       "      <td>21</td>\n",
       "      <td>1</td>\n",
       "      <td>1</td>\n",
       "    </tr>\n",
       "    <tr>\n",
       "      <td>22</td>\n",
       "      <td>0</td>\n",
       "      <td>0</td>\n",
       "    </tr>\n",
       "    <tr>\n",
       "      <td>23</td>\n",
       "      <td>2</td>\n",
       "      <td>2</td>\n",
       "    </tr>\n",
       "    <tr>\n",
       "      <td>24</td>\n",
       "      <td>1</td>\n",
       "      <td>1</td>\n",
       "    </tr>\n",
       "    <tr>\n",
       "      <td>25</td>\n",
       "      <td>2</td>\n",
       "      <td>2</td>\n",
       "    </tr>\n",
       "    <tr>\n",
       "      <td>26</td>\n",
       "      <td>0</td>\n",
       "      <td>0</td>\n",
       "    </tr>\n",
       "    <tr>\n",
       "      <td>27</td>\n",
       "      <td>2</td>\n",
       "      <td>2</td>\n",
       "    </tr>\n",
       "    <tr>\n",
       "      <td>28</td>\n",
       "      <td>0</td>\n",
       "      <td>0</td>\n",
       "    </tr>\n",
       "    <tr>\n",
       "      <td>29</td>\n",
       "      <td>1</td>\n",
       "      <td>1</td>\n",
       "    </tr>\n",
       "    <tr>\n",
       "      <td>30</td>\n",
       "      <td>0</td>\n",
       "      <td>0</td>\n",
       "    </tr>\n",
       "    <tr>\n",
       "      <td>31</td>\n",
       "      <td>2</td>\n",
       "      <td>2</td>\n",
       "    </tr>\n",
       "    <tr>\n",
       "      <td>32</td>\n",
       "      <td>2</td>\n",
       "      <td>2</td>\n",
       "    </tr>\n",
       "    <tr>\n",
       "      <td>33</td>\n",
       "      <td>2</td>\n",
       "      <td>2</td>\n",
       "    </tr>\n",
       "    <tr>\n",
       "      <td>34</td>\n",
       "      <td>2</td>\n",
       "      <td>2</td>\n",
       "    </tr>\n",
       "    <tr>\n",
       "      <td>35</td>\n",
       "      <td>1</td>\n",
       "      <td>1</td>\n",
       "    </tr>\n",
       "    <tr>\n",
       "      <td>36</td>\n",
       "      <td>0</td>\n",
       "      <td>0</td>\n",
       "    </tr>\n",
       "    <tr>\n",
       "      <td>37</td>\n",
       "      <td>1</td>\n",
       "      <td>1</td>\n",
       "    </tr>\n",
       "    <tr>\n",
       "      <td>38</td>\n",
       "      <td>1</td>\n",
       "      <td>1</td>\n",
       "    </tr>\n",
       "    <tr>\n",
       "      <td>39</td>\n",
       "      <td>1</td>\n",
       "      <td>1</td>\n",
       "    </tr>\n",
       "    <tr>\n",
       "      <td>40</td>\n",
       "      <td>1</td>\n",
       "      <td>1</td>\n",
       "    </tr>\n",
       "    <tr>\n",
       "      <td>41</td>\n",
       "      <td>1</td>\n",
       "      <td>1</td>\n",
       "    </tr>\n",
       "    <tr>\n",
       "      <td>42</td>\n",
       "      <td>1</td>\n",
       "      <td>1</td>\n",
       "    </tr>\n",
       "    <tr>\n",
       "      <td>43</td>\n",
       "      <td>2</td>\n",
       "      <td>2</td>\n",
       "    </tr>\n",
       "    <tr>\n",
       "      <td>44</td>\n",
       "      <td>0</td>\n",
       "      <td>0</td>\n",
       "    </tr>\n",
       "  </tbody>\n",
       "</table>\n",
       "</div>"
      ],
      "text/plain": [
       "    0  1\n",
       "0   1  1\n",
       "1   1  1\n",
       "2   2  2\n",
       "3   1  1\n",
       "4   0  0\n",
       "5   2  2\n",
       "6   1  1\n",
       "7   1  1\n",
       "8   2  2\n",
       "9   2  2\n",
       "10  1  1\n",
       "11  1  1\n",
       "12  1  1\n",
       "13  1  1\n",
       "14  0  0\n",
       "15  2  2\n",
       "16  0  0\n",
       "17  0  0\n",
       "18  1  1\n",
       "19  1  1\n",
       "20  0  0\n",
       "21  1  1\n",
       "22  0  0\n",
       "23  2  2\n",
       "24  1  1\n",
       "25  2  2\n",
       "26  0  0\n",
       "27  2  2\n",
       "28  0  0\n",
       "29  1  1\n",
       "30  0  0\n",
       "31  2  2\n",
       "32  2  2\n",
       "33  2  2\n",
       "34  2  2\n",
       "35  1  1\n",
       "36  0  0\n",
       "37  1  1\n",
       "38  1  1\n",
       "39  1  1\n",
       "40  1  1\n",
       "41  1  1\n",
       "42  1  1\n",
       "43  2  2\n",
       "44  0  0"
      ]
     },
     "execution_count": 25,
     "metadata": {},
     "output_type": "execute_result"
    }
   ],
   "source": [
    "result"
   ]
  },
  {
   "cell_type": "code",
   "execution_count": 26,
   "metadata": {
    "id": "B66nVhbk2Mf1"
   },
   "outputs": [],
   "source": [
    "# расчет точности - отношение верный прогнозов к общему количеству позиций\n",
    "# является хорошей метрикой для сбалансированных классов \n",
    "#(наблюдений в категориях примерно одинаковое количество)\n",
    "\n",
    "from sklearn.metrics import accuracy_score"
   ]
  },
  {
   "cell_type": "code",
   "execution_count": 27,
   "metadata": {
    "colab": {
     "base_uri": "https://localhost:8080/",
     "height": 55
    },
    "id": "2x5pYOZB2P2F",
    "outputId": "3ce07925-4c20-4911-dd19-12f48aead815"
   },
   "outputs": [
    {
     "data": {
      "text/plain": [
       "1.0"
      ]
     },
     "execution_count": 27,
     "metadata": {},
     "output_type": "execute_result"
    }
   ],
   "source": [
    "accuracy_score(y_test, lda.predict(X_test))"
   ]
  },
  {
   "cell_type": "code",
   "execution_count": 28,
   "metadata": {
    "colab": {
     "base_uri": "https://localhost:8080/",
     "height": 301
    },
    "id": "aBdqgd5ixdMh",
    "outputId": "4c410bf2-a27b-41be-9c95-c330a849f028"
   },
   "outputs": [
    {
     "data": {
      "text/plain": [
       "array([[ 2.99203333e+00,  2.21756417e-01,  5.90721751e+00,\n",
       "        -6.94732213e-01, -8.22870292e-03, -1.31990003e+00,\n",
       "         3.83593906e+00,  2.62417910e-01, -9.33042725e-01,\n",
       "        -9.19961126e-01,  1.18158126e+00,  2.87855213e+00,\n",
       "         1.26686489e-02],\n",
       "       [-2.24262105e+00, -1.13007393e+00, -6.57158384e+00,\n",
       "         3.66447358e-01,  6.46676545e-04,  6.79100404e-01,\n",
       "         7.65454663e-01,  3.20387617e+00,  7.58413670e-01,\n",
       "        -6.61962580e-01,  5.45571825e+00,  1.18344986e+00,\n",
       "        -9.16346626e-03],\n",
       "       [-8.99615643e-01,  1.31026825e+00,  1.28665005e+00,\n",
       "         4.29279380e-01,  1.03612547e-02,  8.40005173e-01,\n",
       "        -6.35422309e+00, -4.93685338e+00,  1.96153352e-01,\n",
       "         2.20732180e+00, -9.41433752e+00, -5.63837129e+00,\n",
       "        -4.28348093e-03]])"
      ]
     },
     "execution_count": 28,
     "metadata": {},
     "output_type": "execute_result"
    }
   ],
   "source": [
    "# коэффициенты дискриминатных линий\n",
    "lda.coef_"
   ]
  },
  {
   "cell_type": "code",
   "execution_count": 29,
   "metadata": {
    "colab": {
     "base_uri": "https://localhost:8080/",
     "height": 285
    },
    "id": "6fWjKgl4yLHO",
    "outputId": "a7b211e3-4835-4864-af20-fc0c5c458d1c"
   },
   "outputs": [
    {
     "data": {
      "image/png": "[encoded data removed]",
      "text/plain": [
       "<Figure size 432x288 with 1 Axes>"
      ]
     },
     "metadata": {
      "needs_background": "light"
     },
     "output_type": "display_data"
    }
   ],
   "source": [
    "# визуализируем дискриминантную линию только по 2 признакам\n",
    "plt.scatter(X_train['ash'], X_train['flavanoids'], c=y_train)\n",
    "plt.show()"
   ]
  },
  {
   "cell_type": "code",
   "execution_count": 5,
   "metadata": {
    "id": "KFSam-cJzCOG"
   },
   "outputs": [
    {
     "ename": "NameError",
     "evalue": "name 'X_train' is not defined",
     "output_type": "error",
     "traceback": [
      "\u001b[1;31m---------------------------------------------------------------------------\u001b[0m",
      "\u001b[1;31mNameError\u001b[0m                                 Traceback (most recent call last)",
      "\u001b[1;32m<ipython-input-5-bf7e9ec09db6>\u001b[0m in \u001b[0;36m<module>\u001b[1;34m\u001b[0m\n\u001b[1;32m----> 1\u001b[1;33m \u001b[0msmall_train\u001b[0m \u001b[1;33m=\u001b[0m \u001b[0mX_train\u001b[0m\u001b[1;33m[\u001b[0m\u001b[1;33m(\u001b[0m\u001b[0my_train\u001b[0m \u001b[1;33m==\u001b[0m \u001b[1;36m0\u001b[0m\u001b[1;33m)\u001b[0m \u001b[1;33m|\u001b[0m \u001b[1;33m(\u001b[0m\u001b[0my_train\u001b[0m \u001b[1;33m==\u001b[0m \u001b[1;36m2\u001b[0m\u001b[1;33m)\u001b[0m\u001b[1;33m]\u001b[0m\u001b[1;33m\u001b[0m\u001b[1;33m\u001b[0m\u001b[0m\n\u001b[0m\u001b[0;32m      2\u001b[0m \u001b[0msmall_train\u001b[0m \u001b[1;33m=\u001b[0m \u001b[0msmall_train\u001b[0m\u001b[1;33m[\u001b[0m\u001b[1;33m[\u001b[0m\u001b[1;34m'ash'\u001b[0m\u001b[1;33m,\u001b[0m \u001b[1;34m'flavanoids'\u001b[0m\u001b[1;33m]\u001b[0m\u001b[1;33m]\u001b[0m\u001b[1;33m\u001b[0m\u001b[1;33m\u001b[0m\u001b[0m\n\u001b[0;32m      3\u001b[0m \u001b[0msy_train\u001b[0m \u001b[1;33m=\u001b[0m \u001b[0my_train\u001b[0m\u001b[1;33m[\u001b[0m\u001b[1;33m(\u001b[0m\u001b[0my_train\u001b[0m \u001b[1;33m==\u001b[0m \u001b[1;36m0\u001b[0m\u001b[1;33m)\u001b[0m \u001b[1;33m|\u001b[0m \u001b[1;33m(\u001b[0m\u001b[0my_train\u001b[0m \u001b[1;33m==\u001b[0m \u001b[1;36m2\u001b[0m\u001b[1;33m)\u001b[0m\u001b[1;33m]\u001b[0m\u001b[1;33m\u001b[0m\u001b[1;33m\u001b[0m\u001b[0m\n\u001b[0;32m      4\u001b[0m \u001b[0msmall_test\u001b[0m \u001b[1;33m=\u001b[0m \u001b[0mX_test\u001b[0m\u001b[1;33m[\u001b[0m\u001b[1;33m(\u001b[0m\u001b[0my_test\u001b[0m \u001b[1;33m==\u001b[0m \u001b[1;36m0\u001b[0m\u001b[1;33m)\u001b[0m \u001b[1;33m|\u001b[0m \u001b[1;33m(\u001b[0m\u001b[0my_test\u001b[0m \u001b[1;33m==\u001b[0m \u001b[1;36m2\u001b[0m\u001b[1;33m)\u001b[0m\u001b[1;33m]\u001b[0m\u001b[1;33m\u001b[0m\u001b[1;33m\u001b[0m\u001b[0m\n\u001b[0;32m      5\u001b[0m \u001b[0msmall_test\u001b[0m \u001b[1;33m=\u001b[0m \u001b[0msmall_test\u001b[0m\u001b[1;33m[\u001b[0m\u001b[1;33m[\u001b[0m\u001b[1;34m'ash'\u001b[0m\u001b[1;33m,\u001b[0m \u001b[1;34m'flavanoids'\u001b[0m\u001b[1;33m]\u001b[0m\u001b[1;33m]\u001b[0m\u001b[1;33m\u001b[0m\u001b[1;33m\u001b[0m\u001b[0m\n",
      "\u001b[1;31mNameError\u001b[0m: name 'X_train' is not defined"
     ]
    }
   ],
   "source": [
    "small_train = X_train[(y_train == 0) | (y_train == 2)]\n",
    "small_train = small_train[['ash', 'flavanoids']]\n",
    "sy_train = y_train[(y_train == 0) | (y_train == 2)]\n",
    "small_test = X_test[(y_test == 0) | (y_test == 2)]\n",
    "small_test = small_test[['ash', 'flavanoids']]\n",
    "sy_test = y_test[(y_test == 0) | (y_test == 2)]"
   ]
  },
  {
   "cell_type": "code",
   "execution_count": 18,
   "metadata": {
    "colab": {
     "base_uri": "https://localhost:8080/",
     "height": 285
    },
    "id": "SX47KNgXySEU",
    "outputId": "164c922b-8b95-4e89-8687-d3208ed3c20a"
   },
   "outputs": [
    {
     "data": {
      "image/png": "[encoded data removed]",
      "text/plain": [
       "<Figure size 432x288 with 1 Axes>"
      ]
     },
     "metadata": {
      "needs_background": "light"
     },
     "output_type": "display_data"
    }
   ],
   "source": [
    "plt.scatter(small_train['ash'], small_train['flavanoids'], c=sy_train)\n",
    "plt.show()"
   ]
  },
  {
   "cell_type": "code",
   "execution_count": 19,
   "metadata": {
    "colab": {
     "base_uri": "https://localhost:8080/",
     "height": 72
    },
    "id": "jzWXDuY7y453",
    "outputId": "a364ac48-a533-407e-c774-26c6342e77c6"
   },
   "outputs": [
    {
     "data": {
      "text/plain": [
       "LinearDiscriminantAnalysis()"
      ]
     },
     "execution_count": 19,
     "metadata": {},
     "output_type": "execute_result"
    }
   ],
   "source": [
    "lda_small = LinearDiscriminantAnalysis()\n",
    "lda_small.fit(small_train, sy_train)"
   ]
  },
  {
   "cell_type": "code",
   "execution_count": 20,
   "metadata": {
    "colab": {
     "base_uri": "https://localhost:8080/",
     "height": 72
    },
    "id": "MSo9yPBxzPYx",
    "outputId": "02ff0c93-cf22-46f4-8c40-e9be2dde039a"
   },
   "outputs": [
    {
     "data": {
      "text/plain": [
       "array([[2.46954545, 2.96363636],\n",
       "       [2.4496875 , 0.82375   ]])"
      ]
     },
     "execution_count": 20,
     "metadata": {},
     "output_type": "execute_result"
    }
   ],
   "source": [
    "# посмотрим на наши центроиды\n",
    "lda_small.means_"
   ]
  },
  {
   "cell_type": "code",
   "execution_count": 21,
   "metadata": {
    "colab": {
     "base_uri": "https://localhost:8080/",
     "height": 285
    },
    "id": "IrQb_JTwzREc",
    "outputId": "34e9bd73-e15c-494b-9f29-ad9584f1d217"
   },
   "outputs": [
    {
     "name": "stderr",
     "output_type": "stream",
     "text": [
      "C:\\Programs\\Anaconda\\lib\\site-packages\\ipykernel_launcher.py:19: MatplotlibDeprecationWarning: shading='flat' when X and Y have the same dimensions as C is deprecated since 3.3.  Either specify the corners of the quadrilaterals with X and Y, or pass shading='auto', 'nearest' or 'gouraud', or set rcParams['pcolor.shading'].  This will become an error two minor releases later.\n"
     ]
    },
    {
     "data": {
      "text/plain": [
       "<matplotlib.contour.QuadContourSet at 0x1b01a4dcbc8>"
      ]
     },
     "execution_count": 21,
     "metadata": {},
     "output_type": "execute_result"
    },
    {
     "data": {
      "image/png": "[encoded data removed]",
      "text/plain": [
       "<Figure size 432x288 with 1 Axes>"
      ]
     },
     "metadata": {
      "needs_background": "light"
     },
     "output_type": "display_data"
    }
   ],
   "source": [
    "# сам scatter plot\n",
    "plt.scatter(small_train['ash'], small_train['flavanoids'], c=sy_train)\n",
    "# центроиды\n",
    "plt.scatter(lda_small.means_[:, 0], lda_small.means_[:, 1], c='r', s=150, marker='*')\n",
    "\n",
    "# делаем условную \"сетку\"\n",
    "nx, ny = 200, 100\n",
    "x_min, x_max = plt.xlim()\n",
    "y_min, y_max = plt.ylim()\n",
    "xx, yy = np.meshgrid(np.linspace(x_min, x_max, nx),\n",
    "                         np.linspace(y_min, y_max, ny))\n",
    "\n",
    "# предсказываем класс каждой точки нашей сетки\n",
    "Z = lda_small.predict_proba(np.c_[xx.ravel(), yy.ravel()])\n",
    "Z = Z[:, 1].reshape(xx.shape)\n",
    "\n",
    "# закрашиваем классы разными цветами\n",
    "plt.pcolormesh(xx, yy, Z, cmap='red_blue_classes',\n",
    "                   norm=colors.Normalize(0., 1.), zorder=-1)\n",
    "\n",
    "# отделяем друг от друга\n",
    "plt.contour(xx, yy, Z, [0.5], linewidths=2., colors='white')"
   ]
  },
  {
   "cell_type": "code",
   "execution_count": 22,
   "metadata": {
    "colab": {
     "base_uri": "https://localhost:8080/",
     "height": 55
    },
    "id": "e4_nponj4X5a",
    "outputId": "8c6ea1c8-0f94-4ecd-9415-1c822846cdac"
   },
   "outputs": [
    {
     "data": {
      "text/plain": [
       "array([[  1.71845536, -16.21148437]])"
      ]
     },
     "execution_count": 22,
     "metadata": {},
     "output_type": "execute_result"
    }
   ],
   "source": [
    "# второй признак в 17 раз важнее первого для кластеризации (это видно по визуализации)\n",
    "lda_small.coef_"
   ]
  },
  {
   "cell_type": "code",
   "execution_count": 23,
   "metadata": {
    "colab": {
     "base_uri": "https://localhost:8080/",
     "height": 55
    },
    "id": "fDmV457H4kz_",
    "outputId": "ae9a089e-ff63-470d-c98f-0c326fa3f748"
   },
   "outputs": [
    {
     "data": {
      "text/plain": [
       "1.0"
      ]
     },
     "execution_count": 23,
     "metadata": {},
     "output_type": "execute_result"
    }
   ],
   "source": [
    "# какая будет точность?\n",
    "accuracy_score(sy_test, lda_small.predict(small_test))"
   ]
  },
  {
   "cell_type": "code",
   "execution_count": 24,
   "metadata": {
    "id": "E-gchIEJ4t2d"
   },
   "outputs": [],
   "source": [
    "# заменим модель на логистическую регресиию\n",
    "# кому интересно, отличия логистической регресссии от LDA: \n",
    "# https://www.introspective-mode.org/logistic-regression-or-discriminant-function-analysis/\n",
    "# Основные моменты:\n",
    "# LR может работать с категориальными признаками \n",
    "# зависимая пееременная в LR подчиняется логистической функции (изменяется от 0 до 1) и непрерывна\n",
    "from sklearn.linear_model import LogisticRegression"
   ]
  },
  {
   "cell_type": "code",
   "execution_count": 25,
   "metadata": {
    "id": "R4NDgweF41cm"
   },
   "outputs": [],
   "source": [
    "lr = LogisticRegression()"
   ]
  },
  {
   "cell_type": "code",
   "execution_count": 26,
   "metadata": {
    "colab": {
     "base_uri": "https://localhost:8080/",
     "height": 125
    },
    "id": "badyR0Tj43nx",
    "outputId": "53b815eb-53be-458c-bd4a-c4d20a0b3245"
   },
   "outputs": [
    {
     "data": {
      "text/plain": [
       "LogisticRegression()"
      ]
     },
     "execution_count": 26,
     "metadata": {},
     "output_type": "execute_result"
    }
   ],
   "source": [
    "lr.fit(small_train, sy_train)"
   ]
  },
  {
   "cell_type": "code",
   "execution_count": 27,
   "metadata": {
    "colab": {
     "base_uri": "https://localhost:8080/",
     "height": 72
    },
    "id": "NfqW9uR9481f",
    "outputId": "467e1065-de9c-47c6-8b16-82ee17b54410"
   },
   "outputs": [
    {
     "data": {
      "text/plain": [
       "array([0, 0, 0, 2, 0, 2, 0, 2, 0, 2, 0, 0, 0, 2, 0, 0, 2, 0, 2, 0, 2, 2,\n",
       "       2, 2, 2, 2, 0, 2, 2, 0, 2])"
      ]
     },
     "execution_count": 27,
     "metadata": {},
     "output_type": "execute_result"
    }
   ],
   "source": [
    "lr.predict(small_test)"
   ]
  },
  {
   "cell_type": "code",
   "execution_count": 28,
   "metadata": {
    "colab": {
     "base_uri": "https://localhost:8080/",
     "height": 55
    },
    "id": "qqFys9hT4_Eo",
    "outputId": "498814d0-6e8b-4943-fbea-044bd2392bd9"
   },
   "outputs": [
    {
     "data": {
      "text/plain": [
       "1.0"
      ]
     },
     "execution_count": 28,
     "metadata": {},
     "output_type": "execute_result"
    }
   ],
   "source": [
    "accuracy_score(sy_test, lr.predict(small_test))"
   ]
  },
  {
   "cell_type": "code",
   "execution_count": 29,
   "metadata": {
    "colab": {
     "base_uri": "https://localhost:8080/",
     "height": 55
    },
    "id": "1Ei0UlN55CZ_",
    "outputId": "73d548b4-a064-44bf-c925-0077561d60af"
   },
   "outputs": [
    {
     "data": {
      "text/plain": [
       "array([[ 0.07511345, -3.10961573]])"
      ]
     },
     "execution_count": 29,
     "metadata": {},
     "output_type": "execute_result"
    }
   ],
   "source": [
    "lr.coef_"
   ]
  },
  {
   "cell_type": "code",
   "execution_count": 30,
   "metadata": {
    "colab": {
     "base_uri": "https://localhost:8080/",
     "height": 285
    },
    "id": "eTw2FBQh5GKr",
    "outputId": "a6cdbf48-2fd6-4a27-fcaa-166352fb7c39"
   },
   "outputs": [
    {
     "data": {
      "image/png": "[encoded data removed]",
      "text/plain": [
       "<Figure size 432x288 with 1 Axes>"
      ]
     },
     "metadata": {
      "needs_background": "light"
     },
     "output_type": "display_data"
    }
   ],
   "source": [
    "plt.scatter(small_train['ash'], small_train['flavanoids'], c=sy_train)\n",
    "\n",
    "nx, ny = 200, 100\n",
    "x_min, x_max = plt.xlim()\n",
    "y_min, y_max = plt.ylim()\n",
    "xx, yy = np.meshgrid(np.linspace(x_min, x_max, nx),\n",
    "                         np.linspace(y_min, y_max, ny))\n",
    "Z = lr.predict_proba(np.c_[xx.ravel(), yy.ravel()])\n",
    "Z = Z[:, 1].reshape(xx.shape)\n",
    "plt.pcolormesh(xx, yy, Z, cmap='red_blue_classes',\n",
    "                   norm=colors.Normalize(0., 1.), zorder=-1, shading='auto')\n",
    "plt.contour(xx, yy, Z, [0.5], linewidths=2., colors='white')\n",
    "\n",
    "plt.show()"
   ]
  },
  {
   "cell_type": "markdown",
   "metadata": {
    "id": "UJefBk-e58kX"
   },
   "source": [
    "## Кластеризация"
   ]
  },
  {
   "cell_type": "code",
   "execution_count": 30,
   "metadata": {
    "id": "ZK-UchxSXREG"
   },
   "outputs": [],
   "source": [
    "# генерируем искусвтенные данные для примера\n",
    "from sklearn.datasets import make_moons, make_blobs"
   ]
  },
  {
   "cell_type": "code",
   "execution_count": 31,
   "metadata": {
    "id": "_NxdrQ7RXSF5"
   },
   "outputs": [],
   "source": [
    "# 200 точек с 2 центрами, СКО - 2.5\n",
    "X, y = make_blobs(n_samples=200, centers=2, cluster_std=2.5)"
   ]
  },
  {
   "cell_type": "code",
   "execution_count": 42,
   "metadata": {},
   "outputs": [
    {
     "data": {
      "text/plain": [
       "array([[-1.98645291e+00, -1.53132418e+00],\n",
       "       [ 3.21108686e-01,  2.66789607e-01],\n",
       "       [-1.16252031e+01, -4.89980189e+00],\n",
       "       [-8.75130829e+00, -6.26978787e+00],\n",
       "       [ 4.62408742e-02, -1.14021433e+00],\n",
       "       [ 3.35277069e+00, -7.94829067e-01],\n",
       "       [-3.52188738e+00,  4.16776330e+00],\n",
       "       [-1.09436542e+01, -5.07757305e+00],\n",
       "       [-8.07852566e+00, -1.09621267e+00],\n",
       "       [-9.02472934e+00,  1.05159352e+00],\n",
       "       [-7.39466261e+00, -4.18910699e+00],\n",
       "       [-4.31926476e-01, -2.55672879e+00],\n",
       "       [-9.36301787e-01, -8.15322086e+00],\n",
       "       [ 1.45973216e+00, -1.87976735e+00],\n",
       "       [-1.04831550e+01,  2.15480667e+00],\n",
       "       [ 4.12368435e-01, -2.74801553e+00],\n",
       "       [-1.04845971e+01,  2.73704308e-01],\n",
       "       [-5.03437177e-01,  2.01216499e-01],\n",
       "       [-2.14517392e+00, -3.89530545e+00],\n",
       "       [-1.17397515e+01, -3.66690583e+00],\n",
       "       [ 1.72155596e+00, -6.75990669e+00],\n",
       "       [-7.94417833e+00, -4.52803100e-02],\n",
       "       [ 4.26782736e-01, -2.03972414e+00],\n",
       "       [ 3.63963919e+00, -2.92809701e+00],\n",
       "       [-6.39257230e-01,  2.15177367e+00],\n",
       "       [ 2.41026254e-01, -5.03409019e-01],\n",
       "       [-5.87283629e-02, -2.42648590e+00],\n",
       "       [-7.73408834e+00, -5.54304791e+00],\n",
       "       [ 2.63212939e-01, -4.60715330e+00],\n",
       "       [ 2.92427237e+00, -3.52643563e+00],\n",
       "       [-1.11781600e+01, -1.25954578e+00],\n",
       "       [ 3.32153763e+00, -2.21061588e+00],\n",
       "       [-3.07587724e+00, -5.61942346e+00],\n",
       "       [-8.63141812e+00,  3.44190991e-02],\n",
       "       [ 1.38764277e-01, -1.96642069e+00],\n",
       "       [-6.33227774e+00, -9.53655062e-01],\n",
       "       [ 5.83434747e+00,  1.50423226e-01],\n",
       "       [-8.46204378e+00, -1.17614660e+00],\n",
       "       [-7.75232652e+00,  6.78318959e-01],\n",
       "       [-6.19213033e+00, -3.69754456e+00],\n",
       "       [-3.61115344e+00,  4.43503284e-03],\n",
       "       [-1.26443562e+01, -7.74367326e-01],\n",
       "       [-9.76421996e+00, -1.34800488e+00],\n",
       "       [ 2.64550574e-01,  2.72477813e-01],\n",
       "       [-6.30470120e+00, -4.58951829e+00],\n",
       "       [-9.50708372e+00, -2.61845688e+00],\n",
       "       [-8.76140067e+00, -1.07674260e+00],\n",
       "       [ 2.58947555e+00,  2.70279550e+00],\n",
       "       [ 1.28916655e+00,  2.23798415e+00],\n",
       "       [-1.28313808e+01, -7.53534776e+00],\n",
       "       [-1.04536372e+01, -3.24213855e+00],\n",
       "       [-2.76897869e+00, -1.35360520e+00],\n",
       "       [-1.03753931e+01, -1.32147644e+00],\n",
       "       [-1.29202160e+01, -1.89393272e+00],\n",
       "       [-9.69808351e+00, -3.62213270e-01],\n",
       "       [-1.09970303e+01, -4.24670506e+00],\n",
       "       [-3.49391481e+00, -7.72940667e-01],\n",
       "       [-8.30126853e+00, -6.40304809e+00],\n",
       "       [-1.19134437e+00, -3.36797221e+00],\n",
       "       [-1.26657416e+01, -2.23565266e+00],\n",
       "       [-2.95646857e+00,  1.83405998e-01],\n",
       "       [-1.09876701e+01, -7.31542994e+00],\n",
       "       [-1.07823804e+01, -4.54646410e+00],\n",
       "       [-1.25709140e+01, -6.57432338e+00],\n",
       "       [ 2.77550325e-01, -2.67032049e+00],\n",
       "       [-1.18077015e+01, -5.19189356e+00],\n",
       "       [-5.25048614e-01, -5.71485110e+00],\n",
       "       [-6.41522313e+00, -3.55891039e+00],\n",
       "       [-9.11370837e+00, -2.15509769e+00],\n",
       "       [ 2.80851783e+00,  7.26635013e-01],\n",
       "       [-9.84990234e+00, -1.67414245e+00],\n",
       "       [-8.68272138e+00, -2.33969498e+00],\n",
       "       [ 1.14781512e+00, -5.13652510e+00],\n",
       "       [-7.02726589e+00, -2.81561713e+00],\n",
       "       [-1.18752294e+01, -2.49745520e+00],\n",
       "       [-9.50618059e-01,  3.11038848e-01],\n",
       "       [-1.01252800e+01, -8.05821466e-01],\n",
       "       [ 1.95096782e+00, -2.26994443e+00],\n",
       "       [-8.77978144e+00, -1.24546540e+00],\n",
       "       [-9.35806983e+00, -3.48757029e+00],\n",
       "       [-9.28397100e+00, -8.53747322e+00],\n",
       "       [ 3.48538059e+00, -1.92762607e+00],\n",
       "       [-2.85048623e+00,  1.23366005e+00],\n",
       "       [-1.27341057e+01, -9.02591010e-01],\n",
       "       [-1.03577047e+01,  2.62502884e+00],\n",
       "       [ 1.02902089e+00, -3.35557683e+00],\n",
       "       [-1.35424409e+01, -2.11563166e+00],\n",
       "       [-1.06438436e+01, -6.00397353e+00],\n",
       "       [-1.35902015e+01, -5.72680188e+00],\n",
       "       [ 2.05277802e+00, -5.22909783e+00],\n",
       "       [-1.18421153e+01, -3.29139665e+00],\n",
       "       [-1.13529261e+01, -3.89465972e+00],\n",
       "       [-1.25711478e+01, -2.63874351e+00],\n",
       "       [-8.41962317e+00, -1.58481649e+00],\n",
       "       [ 2.35012308e-01, -1.00400254e+00],\n",
       "       [-8.92878717e-01, -7.11130676e-03],\n",
       "       [-7.61731796e+00, -5.58346526e+00],\n",
       "       [ 2.16044479e+00, -2.77786522e+00],\n",
       "       [-1.25337538e+01, -3.23433220e+00],\n",
       "       [ 2.84990171e+00, -5.08753924e+00],\n",
       "       [-1.76671147e+00, -4.90372830e+00],\n",
       "       [ 4.92337823e+00, -2.68715620e+00],\n",
       "       [ 3.20933352e+00, -1.80924499e+00],\n",
       "       [ 4.94783602e-04, -3.61290891e+00],\n",
       "       [ 4.26906262e+00,  4.39775297e+00],\n",
       "       [-1.03477510e+01, -2.39558699e+00],\n",
       "       [-1.16481519e+01,  1.44000822e+00],\n",
       "       [-3.37214344e+00, -3.62728118e+00],\n",
       "       [ 4.53917009e+00, -4.51395485e+00],\n",
       "       [-2.50293503e+00,  1.19994082e+00],\n",
       "       [-1.26091268e+01, -1.58620787e+00],\n",
       "       [-5.28083305e+00, -1.45095397e+00],\n",
       "       [-9.29227571e+00, -2.30557830e+00],\n",
       "       [-9.40659193e-01,  3.71931985e-03],\n",
       "       [-9.83761992e+00, -6.66290008e+00],\n",
       "       [ 1.36539901e+00, -7.98494489e+00],\n",
       "       [-5.03167435e+00, -9.16761807e+00],\n",
       "       [-2.39985921e-01, -2.55631450e+00],\n",
       "       [-1.09370518e+01, -8.39709431e-01],\n",
       "       [-6.68670256e+00, -4.47576553e+00],\n",
       "       [-1.12651948e+01, -3.92682845e+00],\n",
       "       [-6.55363300e-01, -6.03928889e-01],\n",
       "       [-1.05479335e+01, -2.26269475e+00],\n",
       "       [-8.54158266e+00, -3.17277489e+00],\n",
       "       [ 1.40718936e+00,  3.09098940e+00],\n",
       "       [-9.35575537e+00, -7.64997666e+00],\n",
       "       [-7.01377431e+00, -6.57720435e+00],\n",
       "       [-1.01850240e+01, -2.01492898e+00],\n",
       "       [-1.66876344e+00, -3.17970956e+00],\n",
       "       [ 3.91465474e-02,  4.22001719e+00],\n",
       "       [-2.53541078e-02, -2.22964473e+00],\n",
       "       [ 3.44118949e+00, -7.62982019e+00],\n",
       "       [-7.61502653e+00, -2.17302018e-01],\n",
       "       [ 7.20130092e+00,  1.68588290e+00],\n",
       "       [-1.22381327e+00, -3.62263788e+00],\n",
       "       [ 2.63121740e+00, -4.17492518e+00],\n",
       "       [ 3.41473334e+00, -2.24168150e-01],\n",
       "       [-4.06563353e-01, -7.32181341e+00],\n",
       "       [-4.21179656e+00, -5.18460445e+00],\n",
       "       [ 3.73610909e-01, -9.00155637e+00],\n",
       "       [-1.16222701e+01, -7.53285099e-01],\n",
       "       [-6.39881526e-01, -6.46177483e+00],\n",
       "       [-2.04553148e+00, -5.30234391e-01],\n",
       "       [-5.27888680e+00, -3.41273781e+00],\n",
       "       [ 3.96165603e-01, -3.37961122e+00],\n",
       "       [-6.90603602e-01, -6.10955260e-01],\n",
       "       [-1.15610311e+00,  7.35037323e-02],\n",
       "       [-4.01537256e+00, -7.44392126e-01],\n",
       "       [-8.21911782e+00, -4.44701916e-01],\n",
       "       [-7.93353059e+00, -4.32879283e+00],\n",
       "       [ 3.98512569e+00, -2.08292794e+00],\n",
       "       [-1.07070237e+01, -3.91654488e+00],\n",
       "       [-1.10261494e+01, -1.07538413e+00],\n",
       "       [-5.11322695e+00, -5.35318614e+00],\n",
       "       [-1.28825795e+01, -6.15566224e+00],\n",
       "       [ 9.71970336e-01, -8.38517653e-01],\n",
       "       [-1.25795895e+01,  1.37013822e+00],\n",
       "       [-1.17339362e+00,  1.35074075e+00],\n",
       "       [ 5.28144898e-02, -1.12943055e-02],\n",
       "       [-6.20337916e-01, -1.89721481e+00],\n",
       "       [ 2.73846202e-01, -1.23898373e+00],\n",
       "       [-1.03856728e+01, -6.76305746e+00],\n",
       "       [ 6.08507052e-01, -3.24609420e+00],\n",
       "       [-5.33965704e+00,  3.41121476e-01],\n",
       "       [-8.71315669e+00, -3.13870716e+00],\n",
       "       [ 2.65977040e+00, -4.44887930e-01],\n",
       "       [-4.07753675e+00, -1.81999729e+00],\n",
       "       [-1.09629543e+01, -2.41720068e+00],\n",
       "       [-8.56231842e+00,  3.12199617e-01],\n",
       "       [-2.95203438e+00, -2.09516973e+00],\n",
       "       [ 1.00032971e+00, -1.21014086e+00],\n",
       "       [-1.30629830e+01,  1.17170702e+00],\n",
       "       [-5.71860033e+00, -4.73518277e+00],\n",
       "       [-7.24562986e+00, -4.92751774e+00],\n",
       "       [-1.25188664e+01, -4.02280281e+00],\n",
       "       [ 1.89198755e+00, -5.44800232e-01],\n",
       "       [-4.19288601e+00, -5.53444856e+00],\n",
       "       [-8.18604982e+00, -5.65932866e+00],\n",
       "       [-1.16319666e+00, -8.77966558e-02],\n",
       "       [-1.09868464e+01, -2.15872189e+00],\n",
       "       [ 1.86151212e+00, -2.39593813e+00],\n",
       "       [ 8.53864979e-01, -2.01299886e+00],\n",
       "       [-1.07101227e+00,  2.66854553e+00],\n",
       "       [ 4.28359359e+00, -5.01429486e+00],\n",
       "       [-1.23742263e+01, -3.15446425e-01],\n",
       "       [-1.02499205e+01,  3.40692024e-01],\n",
       "       [-6.01394838e+00, -3.74284540e+00],\n",
       "       [-1.56235506e+00,  2.74338959e+00],\n",
       "       [-8.91060902e+00, -5.96273929e+00],\n",
       "       [-1.02249831e+01,  2.86642421e-01],\n",
       "       [-1.96893654e+00, -1.19218062e+00],\n",
       "       [ 1.52446142e-01, -4.51901868e+00],\n",
       "       [-1.27803906e+01, -9.22647435e+00],\n",
       "       [-3.93671699e+00, -3.10071129e+00],\n",
       "       [ 5.21913110e+00,  1.44736255e+00],\n",
       "       [ 1.83992590e+00, -5.18947087e+00],\n",
       "       [-1.18861618e+01, -9.24407822e-01],\n",
       "       [-9.76162183e+00, -1.24567015e+00],\n",
       "       [-9.51528562e+00, -5.86698592e+00],\n",
       "       [-3.69883943e-01, -2.44161822e+00]])"
      ]
     },
     "execution_count": 42,
     "metadata": {},
     "output_type": "execute_result"
    }
   ],
   "source": [
    "X"
   ]
  },
  {
   "cell_type": "code",
   "execution_count": 33,
   "metadata": {
    "colab": {
     "base_uri": "https://localhost:8080/",
     "height": 303
    },
    "id": "TjSYaC57XUeq",
    "outputId": "d6088ba2-3ad7-4dff-fd25-aaf5b76e44a8"
   },
   "outputs": [
    {
     "data": {
      "text/plain": [
       "<matplotlib.collections.PathCollection at 0x1e52665ac48>"
      ]
     },
     "execution_count": 33,
     "metadata": {},
     "output_type": "execute_result"
    },
    {
     "data": {
      "image/png": "[encoded data removed]",
      "text/plain": [
       "<Figure size 432x288 with 1 Axes>"
      ]
     },
     "metadata": {
      "needs_background": "light"
     },
     "output_type": "display_data"
    }
   ],
   "source": [
    "plt.scatter(X[:, 0], X[:, 1], cmap='autumn', s=60)"
   ]
  },
  {
   "cell_type": "code",
   "execution_count": 34,
   "metadata": {
    "id": "bWdNYOIqzzO-"
   },
   "outputs": [],
   "source": [
    "# приведем данные к единому масштабу\n",
    "from sklearn.preprocessing import StandardScaler"
   ]
  },
  {
   "cell_type": "code",
   "execution_count": 35,
   "metadata": {
    "id": "NzLJH0GBXGwQ"
   },
   "outputs": [],
   "source": [
    "scaler = StandardScaler()"
   ]
  },
  {
   "cell_type": "markdown",
   "metadata": {},
   "source": [
    "В реальных задачах при разделении выборки на train и test нужно обучать StandardScaler только на тренировочных данных (и применять уже к тестовым данным).\n"
   ]
  },
  {
   "cell_type": "code",
   "execution_count": 36,
   "metadata": {
    "id": "6UC4SNUdXIru"
   },
   "outputs": [
    {
     "data": {
      "text/plain": [
       "array([[ 4.97592552e-01,  3.25597228e-01],\n",
       "       [ 9.15441694e-01,  9.82916906e-01],\n",
       "       [-1.24777515e+00, -9.05785735e-01],\n",
       "       [-7.27375408e-01, -1.40659873e+00],\n",
       "       [ 8.65669121e-01,  4.68571606e-01],\n",
       "       [ 1.46440965e+00,  5.94830874e-01],\n",
       "       [ 2.19558814e-01,  2.40895946e+00],\n",
       "       [-1.12436149e+00, -9.70771880e-01],\n",
       "       [-6.05549129e-01,  4.84656881e-01],\n",
       "       [-7.76886004e-01,  1.26981035e+00],\n",
       "       [-4.81716425e-01, -6.45983634e-01],\n",
       "       [ 7.79083429e-01, -4.92503667e-02],\n",
       "       [ 6.87752046e-01, -2.09510775e+00],\n",
       "       [ 1.12162161e+00,  1.98220111e-01],\n",
       "       [-1.04097513e+00,  1.67310168e+00],\n",
       "       [ 9.31966847e-01, -1.19177276e-01],\n",
       "       [-1.04123625e+00,  9.85444649e-01],\n",
       "       [ 7.66134398e-01,  9.58945956e-01],\n",
       "       [ 4.68851634e-01, -5.38581345e-01],\n",
       "       [-1.26851738e+00, -4.55087427e-01],\n",
       "       [ 1.16903219e+00, -1.58576689e+00],\n",
       "       [-5.81221753e-01,  8.68836418e-01],\n",
       "       [ 9.34576963e-01,  1.39746201e-01],\n",
       "       [ 1.51635529e+00, -1.85007981e-01],\n",
       "       [ 7.41540345e-01,  1.67199294e+00],\n",
       "       [ 9.00940510e-01,  7.01362581e-01],\n",
       "       [ 8.46661478e-01, -1.63868886e-03],\n",
       "       [-5.43179032e-01, -1.14093118e+00],\n",
       "       [ 9.04958035e-01, -7.98804921e-01],\n",
       "       [ 1.38681794e+00, -4.03737045e-01],\n",
       "       [-1.16682540e+00,  4.24948723e-01],\n",
       "       [ 1.45875402e+00,  7.72749006e-02],\n",
       "       [ 3.00321534e-01, -1.16885108e+00],\n",
       "       [-7.05665911e-01,  8.97971388e-01],\n",
       "       [ 8.82423093e-01,  1.66543058e-01],\n",
       "       [-2.89341667e-01,  5.36770337e-01],\n",
       "       [ 1.91376915e+00,  9.40377934e-01],\n",
       "       [-6.74995907e-01,  4.55436183e-01],\n",
       "       [-5.46481569e-01,  1.13335585e+00],\n",
       "       [-2.63964023e-01, -4.66287740e-01],\n",
       "       [ 2.03394675e-01,  8.87010392e-01],\n",
       "       [-1.43232158e+00,  6.02310882e-01],\n",
       "       [-9.10791649e-01,  3.92611553e-01],\n",
       "       [ 9.05200252e-01,  9.84996290e-01],\n",
       "       [-2.84348156e-01, -7.92358255e-01],\n",
       "       [-8.64229878e-01, -7.18157269e-02],\n",
       "       [-7.29202918e-01,  4.91774376e-01],\n",
       "       [ 1.32619352e+00,  1.87342485e+00],\n",
       "       [ 1.09073589e+00,  1.70350810e+00],\n",
       "       [-1.46618768e+00, -1.86923765e+00],\n",
       "       [-1.03563009e+00, -2.99809218e-01],\n",
       "       [ 3.55894178e-01,  3.90564296e-01],\n",
       "       [-1.02146179e+00,  4.02309307e-01],\n",
       "       [-1.48227379e+00,  1.93041810e-01],\n",
       "       [-8.98815779e-01,  7.52978194e-01],\n",
       "       [-1.13402674e+00, -6.67039223e-01],\n",
       "       [ 2.24624037e-01,  6.02832412e-01],\n",
       "       [-6.45883011e-01, -1.45531342e+00],\n",
       "       [ 6.41569389e-01, -3.45809053e-01],\n",
       "       [-1.43619401e+00,  6.81224377e-02],\n",
       "       [ 3.21943844e-01,  9.52435138e-01],\n",
       "       [-1.13233182e+00, -1.78884434e+00],\n",
       "       [-1.09515833e+00, -7.76619336e-01],\n",
       "       [-1.41902280e+00, -1.51792493e+00],\n",
       "       [ 9.07554224e-01, -9.07750236e-02],\n",
       "       [-1.28082165e+00, -1.01256296e+00],\n",
       "       [ 7.62221038e-01, -1.20373567e+00],\n",
       "       [-3.04361269e-01, -4.15608541e-01],\n",
       "       [-7.92998169e-01,  9.75701663e-02],\n",
       "       [ 1.36585731e+00,  1.15101830e+00],\n",
       "       [-9.26306862e-01,  2.73388485e-01],\n",
       "       [-7.14955812e-01,  3.00886589e-02],\n",
       "       [ 1.06514022e+00, -9.92322431e-01],\n",
       "       [-4.15188882e-01, -1.43889760e-01],\n",
       "       [-1.29304948e+00, -2.75822743e-02],\n",
       "       [ 6.85159681e-01,  9.99092688e-01],\n",
       "       [-9.76171765e-01,  5.90812485e-01],\n",
       "       [ 1.21057368e+00,  5.55867159e-02],\n",
       "       [-7.32531276e-01,  4.30095954e-01],\n",
       "       [-8.37246708e-01, -3.89529409e-01],\n",
       "       [-8.23829023e-01, -2.23557530e+00],\n",
       "       [ 1.48842241e+00,  1.80724845e-01],\n",
       "       [ 3.41134937e-01,  1.33636671e+00],\n",
       "       [-1.44857327e+00,  5.55437346e-01],\n",
       "       [-1.01825881e+00,  1.84499642e+00],\n",
       "       [ 1.04362918e+00, -3.41277791e-01],\n",
       "       [-1.59494517e+00,  1.11997396e-01],\n",
       "       [-1.07007233e+00, -1.30942746e+00],\n",
       "       [-1.60359357e+00, -1.20810440e+00],\n",
       "       [ 1.22900929e+00, -1.02616338e+00],\n",
       "       [-1.28705324e+00, -3.17816039e-01],\n",
       "       [-1.19847172e+00, -5.38345293e-01],\n",
       "       [-1.41906513e+00, -7.92317225e-02],\n",
       "       [-6.67314458e-01,  3.06042542e-01],\n",
       "       [ 8.99851515e-01,  5.18365279e-01],\n",
       "       [ 6.95615018e-01,  8.82789505e-01],\n",
       "       [-5.22034459e-01, -1.15570617e+00],\n",
       "       [ 1.24850540e+00, -1.30089146e-01],\n",
       "       [-1.41229389e+00, -2.96955522e-01],\n",
       "       [ 1.37335103e+00, -9.74415126e-01],\n",
       "       [ 5.37382940e-01, -9.07221076e-01],\n",
       "       [ 1.74881246e+00, -9.69294959e-02],\n",
       "       [ 1.43843630e+00,  2.24000312e-01],\n",
       "       [ 8.57385500e-01, -4.35348276e-01],\n",
       "       [ 1.63033016e+00,  2.49303463e+00],\n",
       "       [-1.01645642e+00,  9.65673761e-03],\n",
       "       [-1.25193068e+00,  1.41179949e+00],\n",
       "       [ 2.46674180e-01, -4.40602214e-01],\n",
       "       [ 1.67924074e+00, -7.64735232e-01],\n",
       "       [ 4.04068890e-01,  1.32404029e+00],\n",
       "       [-1.42594231e+00,  3.05533908e-01],\n",
       "       [-9.89479359e-02,  3.54977416e-01],\n",
       "       [-8.25332825e-01,  4.25603745e-02],\n",
       "       [ 6.86963015e-01,  8.86748756e-01],\n",
       "       [-9.24082783e-01, -1.55030509e+00],\n",
       "       [ 1.10453993e+00, -2.03359267e+00],\n",
       "       [-5.38307220e-02, -2.46593147e+00],\n",
       "       [ 8.13839682e-01, -4.90989169e-02],\n",
       "       [-1.12316594e+00,  5.78424378e-01],\n",
       "       [-3.53520282e-01, -7.50774719e-01],\n",
       "       [-1.18258551e+00, -5.50104915e-01],\n",
       "       [ 7.38623887e-01,  6.64616471e-01],\n",
       "       [-1.05270510e+00,  5.82369139e-02],\n",
       "       [-6.89398666e-01, -2.74452589e-01],\n",
       "       [ 1.11210725e+00,  2.01533327e+00],\n",
       "       [-8.36827608e-01, -1.91114146e+00],\n",
       "       [-4.12745850e-01, -1.51897810e+00],\n",
       "       [-9.86990089e-01,  1.48810334e-01],\n",
       "       [ 5.55119195e-01, -2.76987633e-01],\n",
       "       [ 8.64384492e-01,  2.42806142e+00],\n",
       "       [ 8.52704829e-01,  7.03187004e-02],\n",
       "       [ 1.48042037e+00, -1.90377305e+00],\n",
       "       [-5.21619531e-01,  8.05952048e-01],\n",
       "       [ 2.16129465e+00,  1.50168160e+00],\n",
       "       [ 6.35689978e-01, -4.38904807e-01],\n",
       "       [ 1.33375206e+00, -6.40799320e-01],\n",
       "       [ 1.47562973e+00,  8.03442060e-01],\n",
       "       [ 7.83676138e-01, -1.79117788e+00],\n",
       "       [ 9.46312874e-02, -1.00989835e+00],\n",
       "       [ 9.24948703e-01, -2.40522584e+00],\n",
       "       [-1.24724406e+00,  6.10017714e-01],\n",
       "       [ 7.41427299e-01, -1.47678161e+00],\n",
       "       [ 4.86894709e-01,  6.91556280e-01],\n",
       "       [-9.85955114e-02, -3.62173594e-01],\n",
       "       [ 9.29032867e-01, -3.50063819e-01],\n",
       "       [ 7.32242635e-01,  6.62047905e-01],\n",
       "       [ 6.47950814e-01,  9.12259192e-01],\n",
       "       [ 1.30199396e-01,  6.13268635e-01],\n",
       "       [-6.31007307e-01,  7.22823589e-01],\n",
       "       [-5.79293679e-01, -6.97047280e-01],\n",
       "       [ 1.57891537e+00,  1.23952588e-01],\n",
       "       [-1.08151288e+00, -5.46345646e-01],\n",
       "       [-1.13929958e+00,  4.92270976e-01],\n",
       "       [-6.85981215e-02, -1.07152518e+00],\n",
       "       [-1.47545864e+00, -1.36487888e+00],\n",
       "       [ 1.03329856e+00,  5.78860045e-01],\n",
       "       [-1.42059374e+00,  1.38625776e+00],\n",
       "       [ 6.44819880e-01,  1.37916681e+00],\n",
       "       [ 8.66859459e-01,  8.81260365e-01],\n",
       "       [ 7.44966221e-01,  1.91842003e-01],\n",
       "       [ 9.06883488e-01,  4.32465399e-01],\n",
       "       [-1.02332322e+00, -1.58691869e+00],\n",
       "       [ 9.67483278e-01, -3.01255247e-01],\n",
       "       [-1.09599678e-01,  1.01008971e+00],\n",
       "       [-7.20466984e-01, -2.61998767e-01],\n",
       "       [ 1.33892239e+00,  7.22755590e-01],\n",
       "       [ 1.18942816e-01,  2.20069692e-01],\n",
       "       [-1.12785633e+00,  1.75562372e-03],\n",
       "       [-6.93153459e-01,  9.99517019e-01],\n",
       "       [ 3.22746779e-01,  1.19477470e-01],\n",
       "       [ 1.03843383e+00,  4.43009215e-01],\n",
       "       [-1.50812578e+00,  1.31371912e+00],\n",
       "       [-1.78218055e-01, -8.45607460e-01],\n",
       "       [-4.54729840e-01, -9.15917558e-01],\n",
       "       [-1.40959812e+00, -5.85189364e-01],\n",
       "       [ 1.19989364e+00,  6.86231582e-01],\n",
       "       [ 9.80555764e-02, -1.13778760e+00],\n",
       "       [-6.25019412e-01, -1.18343885e+00],\n",
       "       [ 6.46666327e-01,  8.53294115e-01],\n",
       "       [-1.13218267e+00,  9.62453017e-02],\n",
       "       [ 1.19437520e+00,  9.52837487e-03],\n",
       "       [ 1.01191225e+00,  1.49515909e-01],\n",
       "       [ 6.63358912e-01,  1.86090441e+00],\n",
       "       [ 1.63296140e+00, -9.47639861e-01],\n",
       "       [-1.38340695e+00,  7.70074313e-01],\n",
       "       [-9.98741443e-01,  1.00993272e+00],\n",
       "       [-2.31699153e-01, -4.82847946e-01],\n",
       "       [ 5.74387434e-01,  1.88826445e+00],\n",
       "       [-7.56221301e-01, -1.29435384e+00],\n",
       "       [-9.94225814e-01,  9.90174314e-01],\n",
       "       [ 5.00764384e-01,  4.49574775e-01],\n",
       "       [ 8.84900581e-01, -7.66586372e-01],\n",
       "       [-1.45695446e+00, -2.48744701e+00],\n",
       "       [ 1.44442207e-01, -2.48108974e-01],\n",
       "       [ 1.80236687e+00,  1.41448794e+00],\n",
       "       [ 1.19046641e+00, -1.01167732e+00],\n",
       "       [-1.29502909e+00,  5.47461978e-01],\n",
       "       [-9.10321184e-01,  4.30021107e-01],\n",
       "       [-8.65715062e-01, -1.25935017e+00],\n",
       "       [ 7.90317980e-01, -7.17047091e-03]])"
      ]
     },
     "execution_count": 36,
     "metadata": {},
     "output_type": "execute_result"
    }
   ],
   "source": [
    "# fit-transform сразу обучается и преобразует данные\n",
    "X_scaled = scaler.fit_transform(X)\n",
    "X_scaled"
   ]
  },
  {
   "cell_type": "code",
   "execution_count": 37,
   "metadata": {
    "colab": {
     "base_uri": "https://localhost:8080/",
     "height": 304
    },
    "id": "TRnNnC3kXbcr",
    "outputId": "841e1554-c362-4528-c92a-e6c32dd57034"
   },
   "outputs": [
    {
     "data": {
      "text/plain": [
       "<matplotlib.collections.PathCollection at 0x1e52671b1c8>"
      ]
     },
     "execution_count": 37,
     "metadata": {},
     "output_type": "execute_result"
    },
    {
     "data": {
      "image/png": "[encoded data removed]",
      "text/plain": [
       "<Figure size 432x288 with 1 Axes>"
      ]
     },
     "metadata": {
      "needs_background": "light"
     },
     "output_type": "display_data"
    }
   ],
   "source": [
    "plt.scatter(X_scaled[:, 0], X_scaled[:, 1],cmap='autumn', s=60)"
   ]
  },
  {
   "cell_type": "code",
   "execution_count": 38,
   "metadata": {
    "id": "XftqUwUlYLIj"
   },
   "outputs": [],
   "source": [
    "from sklearn.cluster import KMeans"
   ]
  },
  {
   "cell_type": "code",
   "execution_count": 39,
   "metadata": {
    "colab": {
     "base_uri": "https://localhost:8080/",
     "height": 213
    },
    "id": "7PkhGAB-YN1C",
    "outputId": "443f3bc6-6768-44ec-a167-a4f535a10366"
   },
   "outputs": [
    {
     "data": {
      "text/plain": [
       "array([0, 0, 1, 1, 0, 0, 0, 1, 1, 1, 1, 0, 0, 0, 1, 0, 1, 0, 0, 1, 0, 1,\n",
       "       0, 0, 0, 0, 0, 1, 0, 0, 1, 0, 0, 1, 0, 1, 0, 1, 1, 1, 0, 1, 1, 0,\n",
       "       1, 1, 1, 0, 0, 1, 1, 0, 1, 1, 1, 1, 0, 1, 0, 1, 0, 1, 1, 1, 0, 1,\n",
       "       0, 1, 1, 0, 1, 1, 0, 1, 1, 0, 1, 0, 1, 1, 1, 0, 0, 1, 1, 0, 1, 1,\n",
       "       1, 0, 1, 1, 1, 1, 0, 0, 1, 0, 1, 0, 0, 0, 0, 0, 0, 1, 1, 0, 0, 0,\n",
       "       1, 1, 1, 0, 1, 0, 1, 0, 1, 1, 1, 0, 1, 1, 0, 1, 1, 1, 0, 0, 0, 0,\n",
       "       1, 0, 0, 0, 0, 0, 1, 0, 1, 0, 0, 1, 0, 0, 0, 0, 1, 1, 0, 1, 1, 1,\n",
       "       1, 0, 1, 0, 0, 0, 0, 1, 0, 0, 1, 0, 0, 1, 1, 0, 0, 1, 1, 1, 1, 0,\n",
       "       1, 1, 0, 1, 0, 0, 0, 0, 1, 1, 1, 0, 1, 1, 0, 0, 1, 0, 0, 0, 1, 1,\n",
       "       1, 0])"
      ]
     },
     "execution_count": 39,
     "metadata": {},
     "output_type": "execute_result"
    }
   ],
   "source": [
    "# явно указываем количество кластеров\n",
    "kmeans = KMeans(n_clusters=2)\n",
    "# fit_predict обучается на данных и каждому объекту присваивает кластер\n",
    "clusters = kmeans.fit_predict(X_scaled)\n",
    "clusters"
   ]
  },
  {
   "cell_type": "code",
   "execution_count": 40,
   "metadata": {
    "colab": {
     "base_uri": "https://localhost:8080/",
     "height": 304
    },
    "id": "EIhtpQU4YXiR",
    "outputId": "8b3fdd98-c53f-4afe-d853-504bbcbf4315"
   },
   "outputs": [
    {
     "data": {
      "text/plain": [
       "<matplotlib.collections.PathCollection at 0x1e5269d06c8>"
      ]
     },
     "execution_count": 40,
     "metadata": {},
     "output_type": "execute_result"
    },
    {
     "data": {
      "image/png": "[encoded data removed]",
      "text/plain": [
       "<Figure size 432x288 with 1 Axes>"
      ]
     },
     "metadata": {
      "needs_background": "light"
     },
     "output_type": "display_data"
    }
   ],
   "source": [
    "plt.scatter(X_scaled[:, 0], X_scaled[:, 1], cmap='autumn', c=clusters, s=60)"
   ]
  },
  {
   "cell_type": "code",
   "execution_count": 42,
   "metadata": {
    "id": "JakzZ_1WYbgI"
   },
   "outputs": [],
   "source": [
    "# строим график локтя\n",
    "\n",
    "# создаем список для инерции\n",
    "k_inertia = []\n",
    "# задаем диапазон кластеров\n",
    "ks = range(1, 20)\n",
    "\n",
    "for k in ks:\n",
    "    clf_kmeans = KMeans(n_clusters=k)\n",
    "    clusters_kmeans = clf_kmeans.fit_predict(X_scaled)\n",
    "    # добавляем инерцию каждой модели в список\n",
    "    k_inertia.append(clf_kmeans.inertia_)"
   ]
  },
  {
   "cell_type": "code",
   "execution_count": 43,
   "metadata": {
    "colab": {
     "base_uri": "https://localhost:8080/",
     "height": 303
    },
    "id": "BL2K84DOYzQp",
    "outputId": "02019f5b-36bd-4dc6-df76-d5a4fcebfcea"
   },
   "outputs": [
    {
     "data": {
      "text/plain": [
       "[<matplotlib.lines.Line2D at 0x1b01a98e408>]"
      ]
     },
     "execution_count": 43,
     "metadata": {},
     "output_type": "execute_result"
    },
    {
     "data": {
      "image/png": "[encoded data removed]",
      "text/plain": [
       "<Figure size 432x288 with 1 Axes>"
      ]
     },
     "metadata": {
      "needs_background": "light"
     },
     "output_type": "display_data"
    }
   ],
   "source": [
    "plt.plot(ks, k_inertia)\n",
    "plt.plot(ks, k_inertia ,'ro')"
   ]
  },
  {
   "cell_type": "markdown",
   "metadata": {},
   "source": [
    "Иерархическая кластеризация"
   ]
  },
  {
   "cell_type": "code",
   "execution_count": 44,
   "metadata": {
    "id": "wGWt37snY1ak"
   },
   "outputs": [],
   "source": [
    "from scipy.spatial.distance import pdist\n",
    "from scipy.cluster import hierarchy"
   ]
  },
  {
   "cell_type": "code",
   "execution_count": 49,
   "metadata": {
    "colab": {
     "base_uri": "https://localhost:8080/",
     "height": 419
    },
    "id": "UL2QOOH_Y8vL",
    "outputId": "128d6635-2497-4aca-b0a3-eef8faf29cd5"
   },
   "outputs": [
    {
     "data": {
      "image/png": "[encoded data removed]",
      "text/plain": [
       "<Figure size 1440x648 with 1 Axes>"
      ]
     },
     "metadata": {
      "needs_background": "light"
     },
     "output_type": "display_data"
    }
   ],
   "source": [
    "# строим дендрограмму\n",
    "distance_mat = pdist(X_scaled) # pdist посчитает нам матрицу попарных расстояний между точками\n",
    "# Z = hierarchy.linkage(distance_mat) # linkage — реализация агломеративного алгоритма\n",
    "Z = hierarchy.linkage(distance_mat, 'ward')\n",
    "plt.figure(figsize=(20, 9))\n",
    "dn = hierarchy.dendrogram(Z)"
   ]
  },
  {
   "cell_type": "code",
   "execution_count": 46,
   "metadata": {
    "id": "K_0ejaBzZBIv"
   },
   "outputs": [],
   "source": [
    "# делаем уже кластеризацию по факту\n",
    "from sklearn.cluster import AgglomerativeClustering"
   ]
  },
  {
   "cell_type": "code",
   "execution_count": 47,
   "metadata": {
    "colab": {
     "base_uri": "https://localhost:8080/",
     "height": 213
    },
    "id": "wjEgXrmpZVrY",
    "outputId": "74b5fccd-49ed-43e1-d1e6-aa50449bc4b7"
   },
   "outputs": [
    {
     "data": {
      "text/plain": [
       "array([0, 0, 0, 1, 1, 0, 0, 0, 1, 1, 0, 1, 0, 0, 1, 0, 1, 1, 1, 0, 1, 1,\n",
       "       0, 1, 1, 0, 0, 1, 1, 0, 1, 0, 1, 1, 1, 0, 0, 1, 0, 0, 0, 0, 0, 0,\n",
       "       0, 0, 0, 0, 0, 1, 0, 0, 0, 0, 0, 1, 1, 0, 1, 1, 0, 0, 1, 1, 1, 1,\n",
       "       1, 1, 0, 1, 0, 1, 0, 0, 0, 1, 0, 1, 0, 0, 0, 0, 0, 1, 1, 1, 1, 0,\n",
       "       1, 0, 1, 0, 0, 0, 1, 1, 1, 1, 0, 0, 1, 0, 0, 1, 0, 1, 1, 1, 1, 0,\n",
       "       0, 1, 0, 1, 1, 0, 0, 1, 0, 0, 1, 0, 1, 0, 1, 0, 0, 0, 0, 0, 0, 1,\n",
       "       0, 0, 0, 0, 0, 0, 1, 0, 1, 0, 1, 0, 0, 0, 0, 0, 1, 1, 1, 0, 0, 0,\n",
       "       1, 0, 0, 1, 0, 0, 0, 0, 0, 0, 1, 0, 0, 0, 0, 1, 0, 0, 1, 1, 0, 0,\n",
       "       0, 0, 1, 0, 1, 0, 0, 0, 0, 1, 0, 0, 0, 0, 0, 0, 0, 0, 0, 1, 0, 1,\n",
       "       0, 0], dtype=int64)"
      ]
     },
     "execution_count": 47,
     "metadata": {},
     "output_type": "execute_result"
    }
   ],
   "source": [
    "aglo = AgglomerativeClustering(n_clusters=2)\n",
    "clusters = aglo.fit_predict(X_scaled)\n",
    "clusters"
   ]
  },
  {
   "cell_type": "code",
   "execution_count": 48,
   "metadata": {
    "colab": {
     "base_uri": "https://localhost:8080/",
     "height": 304
    },
    "id": "Us0SDSD1ZtX7",
    "outputId": "1a822df2-0e99-4b3c-84c2-4e95bbf0f775"
   },
   "outputs": [
    {
     "data": {
      "text/plain": [
       "<matplotlib.collections.PathCollection at 0x1b01c0516c8>"
      ]
     },
     "execution_count": 48,
     "metadata": {},
     "output_type": "execute_result"
    },
    {
     "data": {
      "image/png": "[encoded data removed]",
      "text/plain": [
       "<Figure size 432x288 with 1 Axes>"
      ]
     },
     "metadata": {
      "needs_background": "light"
     },
     "output_type": "display_data"
    }
   ],
   "source": [
    "plt.scatter(X_scaled[:, 0], X_scaled[:, 1],cmap='autumn', c=clusters, s=60)"
   ]
  },
  {
   "cell_type": "code",
   "execution_count": null,
   "metadata": {
    "id": "tPUIlJOaZv5J"
   },
   "outputs": [],
   "source": []
  }
 ],
 "metadata": {
  "colab": {
   "collapsed_sections": [],
   "name": "Лекция 5.ipynb",
   "provenance": []
  },
  "kernelspec": {
   "display_name": "Python 3",
   "language": "python",
   "name": "python3"
  },
  "language_info": {
   "codemirror_mode": {
    "name": "ipython",
    "version": 3
   },
   "file_extension": ".py",
   "mimetype": "text/x-python",
   "name": "python",
   "nbconvert_exporter": "python",
   "pygments_lexer": "ipython3",
   "version": "3.7.4"
  }
 },
 "nbformat": 4,
 "nbformat_minor": 1
}
